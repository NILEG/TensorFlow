{
  "nbformat": 4,
  "nbformat_minor": 0,
  "metadata": {
    "colab": {
      "provenance": [],
      "authorship_tag": "ABX9TyN2qMzgmuUtuR0Abue8+wdj",
      "include_colab_link": true
    },
    "kernelspec": {
      "name": "python3",
      "display_name": "Python 3"
    },
    "language_info": {
      "name": "python"
    }
  },
  "cells": [
    {
      "cell_type": "markdown",
      "metadata": {
        "id": "view-in-github",
        "colab_type": "text"
      },
      "source": [
        "<a href=\"https://colab.research.google.com/github/NILEG/TensorFlow/blob/main/003(Conv2D_Digit_mnist).ipynb\" target=\"_parent\"><img src=\"https://colab.research.google.com/assets/colab-badge.svg\" alt=\"Open In Colab\"/></a>"
      ]
    },
    {
      "cell_type": "code",
      "execution_count": 1,
      "metadata": {
        "id": "a9MLkS37-9wR"
      },
      "outputs": [],
      "source": [
        "import tensorflow as tf\n",
        "import numpy as np\n",
        "import matplotlib.pyplot as plt"
      ]
    },
    {
      "cell_type": "code",
      "source": [
        "dataset=tf.keras.datasets.mnist\n",
        "(X_train, Y_train), (X_test, Y_test)=dataset.load_data()\n",
        "X_train.shape\n",
        "Y_test.shape"
      ],
      "metadata": {
        "colab": {
          "base_uri": "https://localhost:8080/"
        },
        "id": "pdPtRtFM_Ew2",
        "outputId": "752e8925-0065-40e2-bf56-166f2fa4be2d"
      },
      "execution_count": 2,
      "outputs": [
        {
          "output_type": "execute_result",
          "data": {
            "text/plain": [
              "(10000,)"
            ]
          },
          "metadata": {},
          "execution_count": 2
        }
      ]
    },
    {
      "cell_type": "code",
      "source": [
        "#Vislualize\n",
        "index=10\n",
        "plt.imshow(X_train[index])\n",
        "plt.title(Y_train[index])\n",
        "plt.show()"
      ],
      "metadata": {
        "colab": {
          "base_uri": "https://localhost:8080/",
          "height": 452
        },
        "id": "ffj4hFtBA_iu",
        "outputId": "3c712242-66f8-4b37-b0a8-dbd84ffb1d9b"
      },
      "execution_count": 3,
      "outputs": [
        {
          "output_type": "display_data",
          "data": {
            "text/plain": [
              "<Figure size 640x480 with 1 Axes>"
            ],
            "image/png": "[encoded data removed]"
          },
          "metadata": {}
        }
      ]
    },
    {
      "cell_type": "code",
      "source": [
        "X_train, X_test=X_train/255.0, X_test/255.0"
      ],
      "metadata": {
        "id": "xLP5cRlGDNJ2"
      },
      "execution_count": 4,
      "outputs": []
    },
    {
      "cell_type": "code",
      "source": [
        "class myCallback(tf.keras.callbacks.Callback):\n",
        "  def on_epoch_end(self, epoch, logs={}):\n",
        "    if(logs[\"accuracy\"]>0.97):\n",
        "      self.model.stop_training=True"
      ],
      "metadata": {
        "id": "XFEb4sB7IPxU"
      },
      "execution_count": 5,
      "outputs": []
    },
    {
      "cell_type": "code",
      "source": [
        "#Lenet-5 Architecture\n",
        "model=tf.keras.Sequential([tf.keras.layers.Input(shape=(28,28,1)),\n",
        "                           tf.keras.layers.Conv2D(filters=6, kernel_size=5, activation=\"relu\"),\n",
        "                           tf.keras.layers.MaxPooling2D(strides=(2,2)),\n",
        "                           tf.keras.layers.Conv2D(filters=16, kernel_size=5, activation=\"relu\"),\n",
        "                           tf.keras.layers.MaxPooling2D(strides=(2,2)),\n",
        "                           tf.keras.layers.Flatten(),\n",
        "                           tf.keras.layers.Dense(units=120, activation=\"relu\"),\n",
        "                           tf.keras.layers.Dense(units=10, activation=\"softmax\")\n",
        "                           ])\n",
        "model.compile(optimizer=\"adam\", loss=\"sparse_categorical_crossentropy\", metrics=[\"accuracy\"])\n",
        "model.fit(X_train, Y_train, epochs=10, callbacks=[myCallback()])"
      ],
      "metadata": {
        "colab": {
          "base_uri": "https://localhost:8080/"
        },
        "id": "0wKM9c92BQt3",
        "outputId": "95a8d482-ffdb-4ce0-96a4-f7fa437fbaf2"
      },
      "execution_count": 7,
      "outputs": [
        {
          "output_type": "stream",
          "name": "stdout",
          "text": [
            "Epoch 1/10\n",
            "1875/1875 [==============================] - 47s 24ms/step - loss: 0.1976 - accuracy: 0.9397\n",
            "Epoch 2/10\n",
            "1875/1875 [==============================] - 44s 23ms/step - loss: 0.0666 - accuracy: 0.9795\n"
          ]
        },
        {
          "output_type": "execute_result",
          "data": {
            "text/plain": [
              "<keras.callbacks.History at 0x7c5508ae3d00>"
            ]
          },
          "metadata": {},
          "execution_count": 7
        }
      ]
    },
    {
      "cell_type": "code",
      "source": [
        "model.summary()"
      ],
      "metadata": {
        "colab": {
          "base_uri": "https://localhost:8080/"
        },
        "id": "03idhugZF58l",
        "outputId": "d701d29f-c8e9-4a83-d46c-23a3fdb61926"
      },
      "execution_count": 8,
      "outputs": [
        {
          "output_type": "stream",
          "name": "stdout",
          "text": [
            "Model: \"sequential\"\n",
            "_________________________________________________________________\n",
            " Layer (type)                Output Shape              Param #   \n",
            "=================================================================\n",
            " conv2d (Conv2D)             (None, 24, 24, 6)         156       \n",
            "                                                                 \n",
            " max_pooling2d (MaxPooling2D  (None, 12, 12, 6)        0         \n",
            " )                                                               \n",
            "                                                                 \n",
            " conv2d_1 (Conv2D)           (None, 8, 8, 16)          2416      \n",
            "                                                                 \n",
            " max_pooling2d_1 (MaxPooling  (None, 4, 4, 16)         0         \n",
            " 2D)                                                             \n",
            "                                                                 \n",
            " flatten (Flatten)           (None, 256)               0         \n",
            "                                                                 \n",
            " dense (Dense)               (None, 120)               30840     \n",
            "                                                                 \n",
            " dense_1 (Dense)             (None, 10)                1210      \n",
            "                                                                 \n",
            "=================================================================\n",
            "Total params: 34,622\n",
            "Trainable params: 34,622\n",
            "Non-trainable params: 0\n",
            "_________________________________________________________________\n"
          ]
        }
      ]
    },
    {
      "cell_type": "code",
      "source": [
        "model.evaluate(X_test, Y_test)"
      ],
      "metadata": {
        "colab": {
          "base_uri": "https://localhost:8080/"
        },
        "id": "w_1EfNo-JOFz",
        "outputId": "ebc6b3ab-6f60-4402-81d7-6d0074527eb7"
      },
      "execution_count": 9,
      "outputs": [
        {
          "output_type": "stream",
          "name": "stdout",
          "text": [
            "313/313 [==============================] - 3s 9ms/step - loss: 0.0498 - accuracy: 0.9838\n"
          ]
        },
        {
          "output_type": "execute_result",
          "data": {
            "text/plain": [
              "[0.049803800880908966, 0.9837999939918518]"
            ]
          },
          "metadata": {},
          "execution_count": 9
        }
      ]
    },
    {
      "cell_type": "code",
      "source": [],
      "metadata": {
        "id": "en7qYPNTJmOL"
      },
      "execution_count": null,
      "outputs": []
    }
  ]
}