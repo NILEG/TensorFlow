{
  "nbformat": 4,
  "nbformat_minor": 0,
  "metadata": {
    "colab": {
      "provenance": [],
      "authorship_tag": "ABX9TyOV1+zc8n+I7BKhu765VFZL",
      "include_colab_link": true
    },
    "kernelspec": {
      "name": "python3",
      "display_name": "Python 3"
    },
    "language_info": {
      "name": "python"
    }
  },
  "cells": [
    {
      "cell_type": "markdown",
      "metadata": {
        "id": "view-in-github",
        "colab_type": "text"
      },
      "source": [
        "<a href=\"https://colab.research.google.com/github/NILEG/TensorFlow/blob/main/NLP_001(Sarcasm).ipynb\" target=\"_parent\"><img src=\"https://colab.research.google.com/assets/colab-badge.svg\" alt=\"Open In Colab\"/></a>"
      ]
    },
    {
      "cell_type": "code",
      "execution_count": 3,
      "metadata": {
        "id": "XPpXNY_gkVXH"
      },
      "outputs": [],
      "source": [
        "import tensorflow as tf\n",
        "import json"
      ]
    },
    {
      "cell_type": "code",
      "source": [
        "tf.keras.utils.get_file(origin=\"https://storage.googleapis.com/tensorflow-1-public/course3/sarcasm.json\", cache_dir=\"./\")"
      ],
      "metadata": {
        "colab": {
          "base_uri": "https://localhost:8080/",
          "height": 70
        },
        "id": "wKXRVsr7kwMq",
        "outputId": "825cf14d-9b7d-4981-e834-9ddf0f91e4fc"
      },
      "execution_count": 2,
      "outputs": [
        {
          "output_type": "stream",
          "name": "stdout",
          "text": [
            "Downloading data from https://storage.googleapis.com/tensorflow-1-public/course3/sarcasm.json\n",
            "5643545/5643545 [==============================] - 0s 0us/step\n"
          ]
        },
        {
          "output_type": "execute_result",
          "data": {
            "text/plain": [
              "'./datasets/sarcasm.json'"
            ],
            "application/vnd.google.colaboratory.intrinsic+json": {
              "type": "string"
            }
          },
          "metadata": {},
          "execution_count": 2
        }
      ]
    },
    {
      "cell_type": "code",
      "source": [
        "with open(\"./datasets/sarcasm.json\") as file:\n",
        "  data=json.load(file)\n",
        "\n",
        "headlines=[]\n",
        "labels=[]\n",
        "links=[]\n",
        "for item in data:\n",
        "  headlines.append(item[\"headline\"])\n",
        "  labels.append(item[\"is_sarcastic\"])\n",
        "  links.append(item[\"article_link\"])\n",
        "\n",
        "headlines[:10]"
      ],
      "metadata": {
        "colab": {
          "base_uri": "https://localhost:8080/"
        },
        "id": "isc2OZS8k365",
        "outputId": "7562dc5c-2a6d-40a0-d178-c5921675b6a8"
      },
      "execution_count": 5,
      "outputs": [
        {
          "output_type": "execute_result",
          "data": {
            "text/plain": [
              "[\"former versace store clerk sues over secret 'black code' for minority shoppers\",\n",
              " \"the 'roseanne' revival catches up to our thorny political mood, for better and worse\",\n",
              " \"mom starting to fear son's web series closest thing she will have to grandchild\",\n",
              " 'boehner just wants wife to listen, not come up with alternative debt-reduction ideas',\n",
              " 'j.k. rowling wishes snape happy birthday in the most magical way',\n",
              " \"advancing the world's women\",\n",
              " 'the fascinating case for eating lab-grown meat',\n",
              " 'this ceo will send your kids to school, if you work for his company',\n",
              " 'top snake handler leaves sinking huckabee campaign',\n",
              " \"friday's morning email: inside trump's presser for the ages\"]"
            ]
          },
          "metadata": {},
          "execution_count": 5
        }
      ]
    },
    {
      "cell_type": "code",
      "source": [
        "#Step-1: Tokenizer\n",
        "tokenizer=tf.keras.preprocessing.text.Tokenizer(oov_token=\"<OOV>\")\n",
        "#Step-2: Creating token\n",
        "tokenizer.fit_on_texts(headlines)\n",
        "#Step-3: Creating Sequences for text\n",
        "sequences=tokenizer.texts_to_sequences(headlines)\n",
        "#Step-4: Padding\n",
        "padded=tf.keras.preprocessing.sequence.pad_sequences(sequences, padding=\"post\")\n",
        "\n",
        "padded.shape"
      ],
      "metadata": {
        "colab": {
          "base_uri": "https://localhost:8080/"
        },
        "id": "BIPvyPXslpwf",
        "outputId": "9e3ab3b6-ed2d-4514-bd78-cbf9671f3011"
      },
      "execution_count": 7,
      "outputs": [
        {
          "output_type": "execute_result",
          "data": {
            "text/plain": [
              "(26709, 40)"
            ]
          },
          "metadata": {},
          "execution_count": 7
        }
      ]
    },
    {
      "cell_type": "code",
      "source": [],
      "metadata": {
        "id": "uPyHTpi1mKjg"
      },
      "execution_count": null,
      "outputs": []
    }
  ]
}