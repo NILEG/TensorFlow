{
  "nbformat": 4,
  "nbformat_minor": 0,
  "metadata": {
    "colab": {
      "provenance": [],
      "gpuType": "T4",
      "authorship_tag": "ABX9TyPhZ8dnn6rWafZWIbjU9LkT",
      "include_colab_link": true
    },
    "kernelspec": {
      "name": "python3",
      "display_name": "Python 3"
    },
    "language_info": {
      "name": "python"
    },
    "accelerator": "GPU"
  },
  "cells": [
    {
      "cell_type": "markdown",
      "metadata": {
        "id": "view-in-github",
        "colab_type": "text"
      },
      "source": [
        "<a href=\"https://colab.research.google.com/github/NILEG/TensorFlow/blob/main/010(Multiclass_classification_Rock%2C_Paper_%26_Scissor).ipynb\" target=\"_parent\"><img src=\"https://colab.research.google.com/assets/colab-badge.svg\" alt=\"Open In Colab\"/></a>"
      ]
    },
    {
      "cell_type": "code",
      "execution_count": 1,
      "metadata": {
        "id": "QG7ph1vKlwr5"
      },
      "outputs": [],
      "source": [
        "import tensorflow as tf\n",
        "import numpy as np\n",
        "import matplotlib.pyplot as plt"
      ]
    },
    {
      "cell_type": "markdown",
      "source": [
        "####Loading Dataset"
      ],
      "metadata": {
        "id": "rxFAH_HnmHN0"
      }
    },
    {
      "cell_type": "code",
      "source": [
        "#Training Data\n",
        "tf.keras.utils.get_file(origin=\"https://storage.googleapis.com/tensorflow-1-public/course2/week4/rps.zip\",cache_dir=\"./\", extract=True)"
      ],
      "metadata": {
        "colab": {
          "base_uri": "https://localhost:8080/",
          "height": 70
        },
        "id": "5esYwCbQmCaV",
        "outputId": "9ad7bdd3-8191-4645-b586-0ffdc522bbdd"
      },
      "execution_count": 2,
      "outputs": [
        {
          "output_type": "stream",
          "name": "stdout",
          "text": [
            "Downloading data from https://storage.googleapis.com/tensorflow-1-public/course2/week4/rps.zip\n",
            "200682221/200682221 [==============================] - 2s 0us/step\n"
          ]
        },
        {
          "output_type": "execute_result",
          "data": {
            "text/plain": [
              "'./datasets/rps.zip'"
            ],
            "application/vnd.google.colaboratory.intrinsic+json": {
              "type": "string"
            }
          },
          "metadata": {},
          "execution_count": 2
        }
      ]
    },
    {
      "cell_type": "code",
      "source": [
        "#Validation Data\n",
        "tf.keras.utils.get_file(origin=\"https://storage.googleapis.com/tensorflow-1-public/course2/week4/rps-test-set.zip\", cache_dir=\"./\", extract=True)"
      ],
      "metadata": {
        "colab": {
          "base_uri": "https://localhost:8080/",
          "height": 70
        },
        "id": "T4-41dEVm1RB",
        "outputId": "0c8c49fc-5b82-4412-b7f0-fb2a03852c3f"
      },
      "execution_count": 4,
      "outputs": [
        {
          "output_type": "stream",
          "name": "stdout",
          "text": [
            "Downloading data from https://storage.googleapis.com/tensorflow-1-public/course2/week4/rps-test-set.zip\n",
            "29516758/29516758 [==============================] - 0s 0us/step\n"
          ]
        },
        {
          "output_type": "execute_result",
          "data": {
            "text/plain": [
              "'./datasets/rps-test-set.zip'"
            ],
            "application/vnd.google.colaboratory.intrinsic+json": {
              "type": "string"
            }
          },
          "metadata": {},
          "execution_count": 4
        }
      ]
    },
    {
      "cell_type": "code",
      "source": [
        "training_gen=tf.keras.preprocessing.image.ImageDataGenerator(rescale=1.0/255,\n",
        "                                                             width_shift_range=0.2,\n",
        "                                                             height_shift_range=0.2,\n",
        "                                                             rotation_range=0.2,\n",
        "                                                             shear_range=0.2,\n",
        "                                                             zoom_range=0.2,\n",
        "                                                             horizontal_flip=True,\n",
        "                                                             fill_mode=\"nearest\")\n",
        "\n",
        "training_data=training_gen.flow_from_directory(\"datasets/rps/\", target_size=(150,150), batch_size=20, class_mode=\"categorical\")\n",
        "\n",
        "valid_gen=tf.keras.preprocessing.image.ImageDataGenerator(rescale=1.0/255)\n",
        "valid_data=valid_gen.flow_from_directory(\"datasets/rps-test-set/\", target_size=(150,150), batch_size=10, class_mode=\"categorical\")\n"
      ],
      "metadata": {
        "colab": {
          "base_uri": "https://localhost:8080/"
        },
        "id": "yfxHk8EYnzCK",
        "outputId": "b37ea95e-ed5b-4a80-b9b0-1829c70dec4a"
      },
      "execution_count": 5,
      "outputs": [
        {
          "output_type": "stream",
          "name": "stdout",
          "text": [
            "Found 2520 images belonging to 3 classes.\n",
            "Found 372 images belonging to 3 classes.\n"
          ]
        }
      ]
    },
    {
      "cell_type": "markdown",
      "source": [
        "####Creating Model"
      ],
      "metadata": {
        "id": "-ASAiZJIo7BJ"
      }
    },
    {
      "cell_type": "code",
      "source": [
        "model=tf.keras.Sequential([tf.keras.layers.Input(shape=(150,150,3)),\n",
        "                     tf.keras.layers.Conv2D(filters=64, kernel_size=(3,3), activation=\"relu\"),\n",
        "                     tf.keras.layers.MaxPooling2D(strides=(2,2)),\n",
        "\n",
        "                     tf.keras.layers.Conv2D(filters=128, kernel_size=(3,3), activation=\"relu\"),\n",
        "                     tf.keras.layers.MaxPooling2D(strides=(2,2)),\n",
        "\n",
        "                     tf.keras.layers.Conv2D(filters=128, kernel_size=(3,3), activation=\"relu\"),\n",
        "                     tf.keras.layers.MaxPooling2D(strides=(2,2)),\n",
        "\n",
        "                     tf.keras.layers.Flatten(),\n",
        "                     tf.keras.layers.Dropout(0.2),\n",
        "                     tf.keras.layers.Dense(units=512, activation=\"relu\"),\n",
        "                     tf.keras.layers.Dense(units=3, activation=\"softmax\")])\n",
        "\n",
        "model.compile(optimizer=\"rmsprop\", loss=\"categorical_crossentropy\", metrics=[\"accuracy\"])\n",
        "history=model.fit(training_data, epochs=10, validation_data=valid_data)"
      ],
      "metadata": {
        "colab": {
          "base_uri": "https://localhost:8080/"
        },
        "id": "unBWaoTto3zr",
        "outputId": "f8653459-ed49-4567-976c-05c996f3c972"
      },
      "execution_count": 7,
      "outputs": [
        {
          "output_type": "stream",
          "name": "stdout",
          "text": [
            "Epoch 1/10\n",
            "126/126 [==============================] - 35s 191ms/step - loss: 1.9595 - accuracy: 0.4016 - val_loss: 1.0124 - val_accuracy: 0.3629\n",
            "Epoch 2/10\n",
            "126/126 [==============================] - 24s 190ms/step - loss: 0.8165 - accuracy: 0.6321 - val_loss: 0.3500 - val_accuracy: 0.9435\n",
            "Epoch 3/10\n",
            "126/126 [==============================] - 23s 185ms/step - loss: 0.4572 - accuracy: 0.8238 - val_loss: 0.1658 - val_accuracy: 0.9812\n",
            "Epoch 4/10\n",
            "126/126 [==============================] - 23s 181ms/step - loss: 0.2813 - accuracy: 0.9143 - val_loss: 0.0795 - val_accuracy: 0.9758\n",
            "Epoch 5/10\n",
            "126/126 [==============================] - 23s 180ms/step - loss: 0.2154 - accuracy: 0.9341 - val_loss: 0.0887 - val_accuracy: 0.9543\n",
            "Epoch 6/10\n",
            "126/126 [==============================] - 23s 180ms/step - loss: 0.1514 - accuracy: 0.9452 - val_loss: 0.1068 - val_accuracy: 0.9570\n",
            "Epoch 7/10\n",
            "126/126 [==============================] - 23s 180ms/step - loss: 0.0949 - accuracy: 0.9710 - val_loss: 0.0506 - val_accuracy: 0.9785\n",
            "Epoch 8/10\n",
            "126/126 [==============================] - 23s 180ms/step - loss: 0.1228 - accuracy: 0.9587 - val_loss: 0.2237 - val_accuracy: 0.9086\n",
            "Epoch 9/10\n",
            "126/126 [==============================] - 23s 185ms/step - loss: 0.0935 - accuracy: 0.9706 - val_loss: 0.0410 - val_accuracy: 0.9785\n",
            "Epoch 10/10\n",
            "126/126 [==============================] - 22s 174ms/step - loss: 0.0900 - accuracy: 0.9718 - val_loss: 0.1921 - val_accuracy: 0.9409\n"
          ]
        }
      ]
    },
    {
      "cell_type": "markdown",
      "source": [
        "####Visualizing"
      ],
      "metadata": {
        "id": "1g6ybkVjrOeA"
      }
    },
    {
      "cell_type": "code",
      "source": [
        "epochs=range(len(history.history[\"accuracy\"]))\n",
        "plt.plot(epochs, history.history[\"accuracy\"], label=\"Training\")\n",
        "plt.plot(epochs, history.history[\"val_accuracy\"], label=\"Validation\")\n",
        "plt.legend()\n",
        "plt.title(\"Accuracy\")"
      ],
      "metadata": {
        "colab": {
          "base_uri": "https://localhost:8080/",
          "height": 469
        },
        "id": "edQrzCsDqJjq",
        "outputId": "ca19cd4f-57f1-444b-f6e7-370a72e86b86"
      },
      "execution_count": 8,
      "outputs": [
        {
          "output_type": "execute_result",
          "data": {
            "text/plain": [
              "Text(0.5, 1.0, 'Accuracy')"
            ]
          },
          "metadata": {},
          "execution_count": 8
        },
        {
          "output_type": "display_data",
          "data": {
            "text/plain": [
              "<Figure size 640x480 with 1 Axes>"
            ],
            "image/png": "[encoded data removed]"
          },
          "metadata": {}
        }
      ]
    },
    {
      "cell_type": "code",
      "source": [],
      "metadata": {
        "id": "ey3qK1JprVvY"
      },
      "execution_count": null,
      "outputs": []
    }
  ]
}