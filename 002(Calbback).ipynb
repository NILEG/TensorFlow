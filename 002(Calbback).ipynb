{
  "nbformat": 4,
  "nbformat_minor": 0,
  "metadata": {
    "colab": {
      "provenance": [],
      "authorship_tag": "ABX9TyMxllEovLlruZsm0voaciDr",
      "include_colab_link": true
    },
    "kernelspec": {
      "name": "python3",
      "display_name": "Python 3"
    },
    "language_info": {
      "name": "python"
    }
  },
  "cells": [
    {
      "cell_type": "markdown",
      "metadata": {
        "id": "view-in-github",
        "colab_type": "text"
      },
      "source": [
        "<a href=\"https://colab.research.google.com/github/NILEG/TensorFlow/blob/main/002(Calbback).ipynb\" target=\"_parent\"><img src=\"https://colab.research.google.com/assets/colab-badge.svg\" alt=\"Open In Colab\"/></a>"
      ]
    },
    {
      "cell_type": "code",
      "execution_count": 1,
      "metadata": {
        "id": "mmYWilqkK74I"
      },
      "outputs": [],
      "source": [
        "import tensorflow as tf\n",
        "import numpy as np"
      ]
    },
    {
      "cell_type": "code",
      "source": [
        "class myCallback(tf.keras.callbacks.Callback):\n",
        "  def on_epoch_end(self, epoch, logs={}):\n",
        "    print(logs[\"loss\"])\n",
        "    print(logs[\"accuracy\"])\n",
        "    if(logs[\"loss\"]<0.35):\n",
        "      self.model.stop_training=True"
      ],
      "metadata": {
        "id": "0xvKMFNeLCaY"
      },
      "execution_count": 19,
      "outputs": []
    },
    {
      "cell_type": "code",
      "source": [
        "dataset=tf.keras.datasets.fashion_mnist\n",
        "(X_train, Y_train), (X_test, Y_test)=dataset.load_data()\n",
        "X_train, X_test=X_train/255, X_test/255\n"
      ],
      "metadata": {
        "id": "I5LdMMIiLYqp"
      },
      "execution_count": 17,
      "outputs": []
    },
    {
      "cell_type": "code",
      "source": [
        "model=tf.keras.Sequential([tf.keras.layers.Input(shape=(28,28)),\n",
        "                           tf.keras.layers.Flatten(),\n",
        "                           tf.keras.layers.Dense(units=128, activation='relu'),\n",
        "                           tf.keras.layers.Dense(units=10, activation='softmax')])\n",
        "model.compile(optimizer=\"adam\", loss=\"sparse_categorical_crossentropy\", metrics=[\"accuracy\"])\n",
        "model.fit(X_train, Y_train, epochs=5, callbacks=[myCallback()])"
      ],
      "metadata": {
        "colab": {
          "base_uri": "https://localhost:8080/"
        },
        "id": "Jko8lUcULq7G",
        "outputId": "d07a1408-78e6-4b40-c9e3-1ef8850076f0"
      },
      "execution_count": 20,
      "outputs": [
        {
          "output_type": "stream",
          "name": "stdout",
          "text": [
            "Epoch 1/5\n",
            "1875/1875 [==============================] - ETA: 0s - loss: 0.5008 - accuracy: 0.82310.5008242726325989\n",
            "0.8231499791145325\n",
            "1875/1875 [==============================] - 11s 6ms/step - loss: 0.5008 - accuracy: 0.8231\n",
            "Epoch 2/5\n",
            "1869/1875 [============================>.] - ETA: 0s - loss: 0.3742 - accuracy: 0.86470.3740827441215515\n",
            "0.8647666573524475\n",
            "1875/1875 [==============================] - 9s 5ms/step - loss: 0.3741 - accuracy: 0.8648\n",
            "Epoch 3/5\n",
            "1871/1875 [============================>.] - ETA: 0s - loss: 0.3361 - accuracy: 0.87610.33578938245773315\n",
            "0.8762500286102295\n",
            "1875/1875 [==============================] - 8s 4ms/step - loss: 0.3358 - accuracy: 0.8763\n"
          ]
        },
        {
          "output_type": "execute_result",
          "data": {
            "text/plain": [
              "<keras.callbacks.History at 0x7d05df1935e0>"
            ]
          },
          "metadata": {},
          "execution_count": 20
        }
      ]
    },
    {
      "cell_type": "code",
      "source": [],
      "metadata": {
        "id": "iviw_cpGMnAH"
      },
      "execution_count": null,
      "outputs": []
    }
  ]
}