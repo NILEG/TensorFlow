{
  "nbformat": 4,
  "nbformat_minor": 0,
  "metadata": {
    "colab": {
      "provenance": [],
      "authorship_tag": "ABX9TyOQ4XQaIf3Q7rAk6tWQlrsX",
      "include_colab_link": true
    },
    "kernelspec": {
      "name": "python3",
      "display_name": "Python 3"
    },
    "language_info": {
      "name": "python"
    }
  },
  "cells": [
    {
      "cell_type": "markdown",
      "metadata": {
        "id": "view-in-github",
        "colab_type": "text"
      },
      "source": [
        "<a href=\"https://colab.research.google.com/github/NILEG/TensorFlow/blob/main/NLP_000.ipynb\" target=\"_parent\"><img src=\"https://colab.research.google.com/assets/colab-badge.svg\" alt=\"Open In Colab\"/></a>"
      ]
    },
    {
      "cell_type": "code",
      "execution_count": 1,
      "metadata": {
        "id": "ufGfnd3QRpSK"
      },
      "outputs": [],
      "source": [
        "import tensorflow as tf"
      ]
    },
    {
      "cell_type": "code",
      "source": [
        "sentences=[\"I love bananas\",\n",
        "           \"We will work together\",\n",
        "           \"We will visit tomorrow\"]\n",
        "\n",
        "#initializing Tokenizer\n",
        "tokenizer=tf.keras.preprocessing.text.Tokenizer(num_words=100)\n",
        "#Fitting tokenizer on text\n",
        "tokenizer.fit_on_texts(sentences)\n",
        "word_index=tokenizer.word_index\n",
        "#Replacing words in sentences with generated tokens\n",
        "sequences=tokenizer.texts_to_sequences(sentences)\n",
        "print(word_index)\n",
        "print(sequences)"
      ],
      "metadata": {
        "colab": {
          "base_uri": "https://localhost:8080/"
        },
        "id": "KIc_2xZ6Ruvw",
        "outputId": "ecc274bf-423e-49ef-9e6c-a8a546dc533a"
      },
      "execution_count": 6,
      "outputs": [
        {
          "output_type": "stream",
          "name": "stdout",
          "text": [
            "{'we': 1, 'will': 2, 'i': 3, 'love': 4, 'bananas': 5, 'work': 6, 'together': 7, 'visit': 8, 'tomorrow': 9}\n",
            "[[3, 4, 5], [1, 2, 6, 7], [1, 2, 8, 9]]\n"
          ]
        }
      ]
    },
    {
      "cell_type": "markdown",
      "source": [
        "####Out of vocabulary words"
      ],
      "metadata": {
        "id": "9CkH2QyOX8SY"
      }
    },
    {
      "cell_type": "code",
      "source": [
        "sequences_normal=tokenizer.texts_to_sequences([\"I love blue sky\"])\n",
        "print(sequences_normal)\n",
        "#Only I(3) and love(4) exsists in the vocabulary thats why got got only them"
      ],
      "metadata": {
        "colab": {
          "base_uri": "https://localhost:8080/"
        },
        "id": "uc4fCAm0SnY5",
        "outputId": "e73832ae-74e9-4055-f184-99cd2a20eaa8"
      },
      "execution_count": 8,
      "outputs": [
        {
          "output_type": "stream",
          "name": "stdout",
          "text": [
            "[[3, 4]]\n"
          ]
        }
      ]
    },
    {
      "cell_type": "code",
      "source": [
        "#Solution\n",
        "new_tokenizer=tf.keras.preprocessing.text.Tokenizer(num_words=100, oov_token=\"<OOV>\")\n",
        "new_tokenizer.fit_on_texts(sentences)\n",
        "print(new_tokenizer.word_index)\n",
        "sequences=new_tokenizer.texts_to_sequences([\"I love blue sky\"])\n",
        "print(sequences)"
      ],
      "metadata": {
        "colab": {
          "base_uri": "https://localhost:8080/"
        },
        "id": "1ZaSTUp1YRhQ",
        "outputId": "ff560bc2-f044-4588-aec4-23f1ab707916"
      },
      "execution_count": 15,
      "outputs": [
        {
          "output_type": "stream",
          "name": "stdout",
          "text": [
            "{'<OOV>': 1, 'we': 2, 'will': 3, 'i': 4, 'love': 5, 'bananas': 6, 'work': 7, 'together': 8, 'visit': 9, 'tomorrow': 10}\n",
            "[[4, 5, 1, 1]]\n"
          ]
        }
      ]
    },
    {
      "cell_type": "markdown",
      "source": [
        "####Padding"
      ],
      "metadata": {
        "id": "7k4pE2FsafYA"
      }
    },
    {
      "cell_type": "code",
      "source": [
        "from tensorflow.keras.preprocessing.sequence import pad_sequences\n",
        "\n",
        "sentences=[\"I love bananas\",\n",
        "           \"We will work together\",\n",
        "           \"We will visit tomorrow\",\n",
        "           \"This is a very big and long sentence\"]\n",
        "\n",
        "tokenizer2=tf.keras.preprocessing.text.Tokenizer(num_words=100, oov_token=\"<OOV>\")\n",
        "new_tokenizer.fit_on_texts(sentences)\n",
        "sequences=new_tokenizer.texts_to_sequences(sentences)\n",
        "\n",
        "pad_seq=pad_sequences(sequences, padding=\"post\")\n",
        "\n",
        "#post: 0 will be added after sentence. Default to pre\n",
        "#maxlen: max length of the sentences. Longer sentences will be truncated\n",
        "#truncating=\"post\": longer sentences will be truncated from the end; not from the start\n",
        "print(pad_seq)"
      ],
      "metadata": {
        "colab": {
          "base_uri": "https://localhost:8080/"
        },
        "id": "-A3NTR0vZICv",
        "outputId": "1c8b1782-7376-4384-a300-2a5e2367bc29"
      },
      "execution_count": 18,
      "outputs": [
        {
          "output_type": "stream",
          "name": "stdout",
          "text": [
            "[[ 4  5  6  0  0  0  0  0]\n",
            " [ 2  3  7  8  0  0  0  0]\n",
            " [ 2  3  9 10  0  0  0  0]\n",
            " [11 12 13 14 15 16 17 18]]\n"
          ]
        }
      ]
    },
    {
      "cell_type": "code",
      "source": [],
      "metadata": {
        "id": "_RxSKhNra2rX"
      },
      "execution_count": null,
      "outputs": []
    }
  ]
}